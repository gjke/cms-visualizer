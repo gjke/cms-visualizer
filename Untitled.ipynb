{
 "cells": [
  {
   "cell_type": "markdown",
   "id": "df62989a-8bbb-40b5-a91e-9b52aaa529a4",
   "metadata": {},
   "source": [
    "# Imports"
   ]
  },
  {
   "cell_type": "code",
   "execution_count": 10,
   "id": "07346eed-48c5-4c3c-96e1-2a84a1e03696",
   "metadata": {},
   "outputs": [
    {
     "name": "stdout",
     "output_type": "stream",
     "text": [
      "The autoreload extension is already loaded. To reload it, use:\n",
      "  %reload_ext autoreload\n"
     ]
    }
   ],
   "source": [
    "%load_ext autoreload\n",
    "%autoreload 2\n",
    "\n",
    "from src.simulation import Simulation, Pedestrian, Position\n",
    "from src.topography import Topography, RectangularSource, RectangularTarget,RectangularObstacle\n",
    "\n",
    "from ipycanvas import Canvas, hold_canvas\n",
    "\n",
    "import ipywidgets as widgets\n",
    "from ipywidgets import interact, Play, interactive\n",
    "from IPython.display import display\n",
    "\n",
    "from src.visualization import Visualizer\n",
    "\n",
    "import numpy as np"
   ]
  },
  {
   "cell_type": "markdown",
   "id": "49ab6c81-809d-4173-b4c2-6999b32bab16",
   "metadata": {},
   "source": [
    "# Test data"
   ]
  },
  {
   "cell_type": "code",
   "execution_count": 2,
   "id": "3eec3a9f-6464-4c66-b27d-444584ea1834",
   "metadata": {},
   "outputs": [],
   "source": [
    "tmp = RectangularSource(0,1,1,1,1)\n",
    "tmp.x = 1\n",
    "tmp.y = 1\n",
    "tmp.width = 1\n",
    "tmp.height = 1\n",
    "sources = [tmp]\n",
    "\n",
    "tmp = RectangularTarget(1,6,6,1,1)\n",
    "tmp.x = 6\n",
    "tmp.y = 6\n",
    "tmp.width = 1\n",
    "tmp.height = 1\n",
    "targets = [tmp]\n",
    "\n",
    "tmp = RectangularObstacle(2,3,3,1,1)\n",
    "tmp.x = 3\n",
    "tmp.y = 3\n",
    "tmp.width = 2\n",
    "tmp.height = 2\n",
    "obstacles = [tmp]\n",
    "\n",
    "topography = Topography(10,10)\n",
    "\n",
    "topography.with_sources(sources)\n",
    "topography.with_targets(targets)\n",
    "topography.with_obstacles(obstacles)\n",
    "\n",
    "pedestrians = [Pedestrian(11, None),Pedestrian(12, None)]\n",
    "\n",
    "simulation = Simulation(topography, pedestrians, 3, [{11:Position(1,3),12:Position(1,2)},{11:Position(2,3),12:Position(2,2)},{11:Position(2,2),12:Position(3,2)}])"
   ]
  },
  {
   "cell_type": "code",
   "execution_count": null,
   "id": "d979fc50-9de7-4799-973d-a2c1dc78fcf3",
   "metadata": {},
   "outputs": [],
   "source": []
  },
  {
   "cell_type": "markdown",
   "id": "5a131118-d06f-4e18-be5d-c1869eb6d751",
   "metadata": {},
   "source": [
    "# Visualization"
   ]
  },
  {
   "cell_type": "code",
   "execution_count": 3,
   "id": "0f293032-0782-4d07-87a5-3586ea94b654",
   "metadata": {},
   "outputs": [],
   "source": [
    "cell_width = 50\n",
    "cell_height = 50\n",
    "def draw(canvas : Canvas, simulation : Simulation, step: int):\n",
    "    canvas.clear()\n",
    "    with hold_canvas(canvas):\n",
    "        indices = np.indices((simulation.topography.width, simulation.topography.width))\n",
    "        row_indices = indices[0].flatten()\n",
    "        column_indices = indices[1].flatten()\n",
    "        canvas.stroke_rects(\n",
    "            x=column_indices*cell_width,\n",
    "            y=row_indices*cell_height,\n",
    "            width=cell_width,\n",
    "            height=cell_height\n",
    "        )\n",
    "        \n",
    "        pedestrians_coordinates = [s for s in simulation.simulation_steps[step].values()]\n",
    "        canvas.fill_style = 'red'\n",
    "        canvas.fill_rects(\n",
    "            x=[p.x * cell_width for p in pedestrians_coordinates],\n",
    "            y=[p.y * cell_height for p in pedestrians_coordinates],\n",
    "            width=cell_width - 1,\n",
    "            height=cell_height - 1\n",
    "        )\n",
    "        # draw obstacles\n",
    "        canvas.fill_style = 'black'\n",
    "        canvas.fill_rects(\n",
    "            x=[p.x * cell_width for p in simulation.topography.obstacles],\n",
    "            y=[p.y * cell_height for p in simulation.topography.obstacles],\n",
    "            width=cell_width - 1,\n",
    "            height=cell_height - 1\n",
    "        )\n",
    "        # draw target\n",
    "        canvas.fill_style = 'green'\n",
    "        canvas.fill_rects(\n",
    "            x=[p.x * cell_width for p in simulation.topography.targets],\n",
    "            y=[p.y * cell_height for p in simulation.topography.targets],\n",
    "            width=cell_width - 1,\n",
    "            height=cell_height - 1\n",
    "        )\n",
    "        # draw sources\n",
    "        canvas.fill_style = 'blue'\n",
    "        canvas.fill_rects(\n",
    "            x=[p.x * cell_width for p in simulation.topography.sources],\n",
    "            y=[p.y * cell_height for p in simulation.topography.sources],\n",
    "            width=cell_width - 1,\n",
    "            height=cell_height - 1\n",
    "        )\n",
    "    return canvas"
   ]
  },
  {
   "cell_type": "code",
   "execution_count": 4,
   "id": "0b9f7669-5fdf-45ce-804c-96986866bea7",
   "metadata": {},
   "outputs": [
    {
     "data": {
      "application/vnd.jupyter.widget-view+json": {
       "model_id": "d700c4c3188f45a992690d6a6b87cdee",
       "version_major": 2,
       "version_minor": 0
      },
      "text/plain": [
       "VBox(children=(IntSlider(value=0, max=2), interactive(children=(Play(value=0, description='Press play', max=2)…"
      ]
     },
     "metadata": {},
     "output_type": "display_data"
    }
   ],
   "source": [
    "canvas = Canvas()\n",
    "\n",
    "def draw_simulation_step(step):\n",
    "    c = draw(canvas,simulation,step)\n",
    "    display(c)\n",
    "    return c\n",
    "\n",
    "\n",
    "play = widgets.Play(\n",
    "#     interval=10,\n",
    "    value=0,\n",
    "    min=0,\n",
    "    max=2,\n",
    "    step=1,\n",
    "    description=\"Press play\",\n",
    "    disabled=False\n",
    ")\n",
    "slider = widgets.IntSlider(\n",
    "#     interval=10,\n",
    "    value=0,\n",
    "    min=0,\n",
    "    max=2,\n",
    "    step=1)\n",
    "widgets.jslink((play, 'value'), (slider, 'value'))\n",
    "layout = interactive(draw_simulation_step, step=play)\n",
    "widgets.VBox([slider,layout])"
   ]
  },
  {
   "cell_type": "code",
   "execution_count": 11,
   "id": "0d098cbe-dc15-44fd-be9d-fd668cf37038",
   "metadata": {},
   "outputs": [
    {
     "data": {
      "application/vnd.jupyter.widget-view+json": {
       "model_id": "d24f4a98d75c44aebecd6c4581b9aa3d",
       "version_major": 2,
       "version_minor": 0
      },
      "text/plain": [
       "VBox(children=(IntSlider(value=0, max=2), interactive(children=(Play(value=0, description='Press play', max=2)…"
      ]
     },
     "metadata": {},
     "output_type": "display_data"
    }
   ],
   "source": [
    "visualizer = Visualizer(simulation,50,50)\n",
    "v = visualizer.build_gui()\n",
    "v"
   ]
  },
  {
   "cell_type": "code",
   "execution_count": null,
   "id": "adbf5c94-b5aa-477e-b0a4-5fc81f646480",
   "metadata": {},
   "outputs": [],
   "source": []
  }
 ],
 "metadata": {
  "kernelspec": {
   "display_name": "Python 3",
   "language": "python",
   "name": "python3"
  },
  "language_info": {
   "codemirror_mode": {
    "name": "ipython",
    "version": 3
   },
   "file_extension": ".py",
   "mimetype": "text/x-python",
   "name": "python",
   "nbconvert_exporter": "python",
   "pygments_lexer": "ipython3",
   "version": "3.9.4"
  }
 },
 "nbformat": 4,
 "nbformat_minor": 5
}
