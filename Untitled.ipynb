{
 "cells": [
  {
   "cell_type": "markdown",
   "id": "df62989a-8bbb-40b5-a91e-9b52aaa529a4",
   "metadata": {},
   "source": [
    "# Imports"
   ]
  },
  {
   "cell_type": "code",
   "execution_count": 125,
   "id": "07346eed-48c5-4c3c-96e1-2a84a1e03696",
   "metadata": {},
   "outputs": [
    {
     "name": "stdout",
     "output_type": "stream",
     "text": [
      "The autoreload extension is already loaded. To reload it, use:\n",
      "  %reload_ext autoreload\n"
     ]
    }
   ],
   "source": [
    "%load_ext autoreload\n",
    "%autoreload 2\n",
    "\n",
    "from src.simulation import Simulation, Pedestrian, Position\n",
    "from src.topography import Topography, RectangularSource, RectangularTarget,RectangularObstacle\n",
    "\n",
    "from ipycanvas import Canvas, hold_canvas\n",
    "\n",
    "import ipywidgets as widgets\n",
    "from ipywidgets import interact, Play, interactive\n",
    "from IPython.display import display\n",
    "\n",
    "from src.visualization import Visualizer\n",
    "\n",
    "import numpy as np"
   ]
  },
  {
   "cell_type": "markdown",
   "id": "49ab6c81-809d-4173-b4c2-6999b32bab16",
   "metadata": {},
   "source": [
    "# Test data"
   ]
  },
  {
   "cell_type": "code",
   "execution_count": 126,
   "id": "3eec3a9f-6464-4c66-b27d-444584ea1834",
   "metadata": {},
   "outputs": [],
   "source": [
    "tmp = RectangularSource(0,1,1,1,1)\n",
    "tmp.x = 1\n",
    "tmp.y = 1\n",
    "tmp.width = 2\n",
    "tmp.height = 1\n",
    "sources = [tmp]\n",
    "\n",
    "tmp = RectangularTarget(1,6,6,1,1)\n",
    "tmp.x = 6\n",
    "tmp.y = 6\n",
    "tmp.width = 3\n",
    "tmp.height = 3\n",
    "targets = [tmp]\n",
    "\n",
    "tmp = RectangularObstacle(2,3,3,1,1)\n",
    "tmp.x = 3\n",
    "tmp.y = 3\n",
    "tmp.width = 2\n",
    "tmp.height = 2\n",
    "obstacles = [tmp]\n",
    "\n",
    "topography = Topography(10,10)\n",
    "\n",
    "topography.with_sources(sources)\n",
    "topography.with_targets(targets)\n",
    "topography.with_obstacles(obstacles)\n",
    "\n",
    "pedestrians = [Pedestrian(11,1, None),Pedestrian(12,1, None)]\n",
    "\n",
    "simulation = Simulation(topography, pedestrians, 3, [{11:Position(1,3),12:Position(1,2)},{11:Position(2,3),12:Position(2,2)},{11:Position(2,2),12:Position(3,2)}])"
   ]
  },
  {
   "cell_type": "markdown",
   "id": "5a131118-d06f-4e18-be5d-c1869eb6d751",
   "metadata": {},
   "source": [
    "# Visualization"
   ]
  },
  {
   "cell_type": "code",
   "execution_count": 127,
   "id": "0d098cbe-dc15-44fd-be9d-fd668cf37038",
   "metadata": {},
   "outputs": [
    {
     "data": {
      "application/vnd.jupyter.widget-view+json": {
       "model_id": "5960cce89efe41288267a029805e993e",
       "version_major": 2,
       "version_minor": 0
      },
      "text/plain": [
       "VBox(children=(IntSlider(value=0, max=2), ToggleButton(value=False, description='Show Trajectories', icon='che…"
      ]
     },
     "metadata": {},
     "output_type": "display_data"
    }
   ],
   "source": [
    "visualizer = Visualizer(simulation,50,50,500,500)\n",
    "v = visualizer.build_gui()\n",
    "v"
   ]
  },
  {
   "cell_type": "markdown",
   "id": "e78ae1f2-6b6a-4483-8ddf-6d7a8681e636",
   "metadata": {},
   "source": [
    "# TestData with floats"
   ]
  },
  {
   "cell_type": "code",
   "execution_count": 23,
   "id": "50bfc1a1-96bd-4918-b0dd-bcf85877fa3f",
   "metadata": {},
   "outputs": [],
   "source": [
    "tmp = RectangularSource(0,1,1,1,1)\n",
    "sources = [tmp]\n",
    "\n",
    "tmp = RectangularTarget(1,6,6,2.5,1.5)\n",
    "targets = [tmp]\n",
    "\n",
    "tmp = RectangularObstacle(2,3.5,3,1.5,1)\n",
    "obstacles = [tmp]\n",
    "\n",
    "topography = Topography(10,10)\n",
    "\n",
    "topography.with_sources(sources)\n",
    "topography.with_targets(targets)\n",
    "topography.with_obstacles(obstacles)\n",
    "\n",
    "pedestrians = [Pedestrian(11,0.5, None),Pedestrian(12,0.5, None)]\n",
    "\n",
    "simulation = Simulation(topography, pedestrians, 3, [{11:Position(1,3.5),12:Position(1,2)},{11:Position(2,3.5),12:Position(2,2)},{11:Position(2,2),12:Position(3,2)}])"
   ]
  },
  {
   "cell_type": "code",
   "execution_count": 24,
   "id": "f89d99e3-5c71-4136-86af-653b84bbd568",
   "metadata": {},
   "outputs": [
    {
     "data": {
      "application/vnd.jupyter.widget-view+json": {
       "model_id": "ad587ad8b3804dec890c26372164d1d2",
       "version_major": 2,
       "version_minor": 0
      },
      "text/plain": [
       "VBox(children=(IntSlider(value=0, max=2), interactive(children=(Play(value=0, description='Press play', max=2)…"
      ]
     },
     "metadata": {},
     "output_type": "display_data"
    }
   ],
   "source": [
    "visualizer = Visualizer(simulation,10,10,500,500)\n",
    "v = visualizer.build_gui()\n",
    "v"
   ]
  },
  {
   "cell_type": "code",
   "execution_count": null,
   "id": "ccf0cb72-8fbd-4601-b68c-7e5ce802c54b",
   "metadata": {},
   "outputs": [],
   "source": []
  },
  {
   "cell_type": "code",
   "execution_count": null,
   "id": "816617dc-61f3-47ff-86e7-5c74d227a6be",
   "metadata": {},
   "outputs": [],
   "source": []
  }
 ],
 "metadata": {
  "kernelspec": {
   "display_name": "Python 3",
   "language": "python",
   "name": "python3"
  },
  "language_info": {
   "codemirror_mode": {
    "name": "ipython",
    "version": 3
   },
   "file_extension": ".py",
   "mimetype": "text/x-python",
   "name": "python",
   "nbconvert_exporter": "python",
   "pygments_lexer": "ipython3",
   "version": "3.9.4"
  }
 },
 "nbformat": 4,
 "nbformat_minor": 5
}
