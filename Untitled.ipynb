{
 "cells": [
  {
   "cell_type": "markdown",
   "id": "df62989a-8bbb-40b5-a91e-9b52aaa529a4",
   "metadata": {},
   "source": [
    "# Imports"
   ]
  },
  {
   "cell_type": "code",
   "execution_count": 1,
   "id": "07346eed-48c5-4c3c-96e1-2a84a1e03696",
   "metadata": {},
   "outputs": [],
   "source": [
    "%load_ext autoreload\n",
    "%autoreload 2\n",
    "\n",
    "from src.simulation import Simulation, Pedestrian, Position, from_json\n",
    "from src.topography import Topography, RectangularSource, RectangularTarget,RectangularObstacle\n",
    "\n",
    "from ipycanvas import Canvas, hold_canvas\n",
    "\n",
    "import ipywidgets as widgets\n",
    "from ipywidgets import interact, Play, interactive\n",
    "from IPython.display import display\n",
    "\n",
    "from src.visualization import Visualizer\n",
    "\n",
    "import numpy as np"
   ]
  },
  {
   "cell_type": "markdown",
   "id": "49ab6c81-809d-4173-b4c2-6999b32bab16",
   "metadata": {},
   "source": [
    "# Test data"
   ]
  },
  {
   "cell_type": "code",
   "execution_count": 2,
   "id": "3eec3a9f-6464-4c66-b27d-444584ea1834",
   "metadata": {},
   "outputs": [],
   "source": [
    "tmp = RectangularSource(0,1,1,1,1)\n",
    "tmp.x = 0\n",
    "tmp.y = 0\n",
    "tmp.width = 1\n",
    "tmp.height = 1\n",
    "sources = [tmp]\n",
    "\n",
    "tmp = RectangularTarget(1,6,6,1,1)\n",
    "tmp.x = 6\n",
    "tmp.y = 6\n",
    "tmp.width = 1\n",
    "tmp.height = 1\n",
    "targets = [tmp]\n",
    "\n",
    "tmp = RectangularObstacle(2,3,3,1,1)\n",
    "tmp.x = 3\n",
    "tmp.y = 3\n",
    "tmp.width = 2\n",
    "tmp.height = 2\n",
    "obstacles = [tmp]\n",
    "\n",
    "topography = Topography(20,20)\n",
    "\n",
    "topography.with_sources(sources)\n",
    "topography.with_targets(targets)\n",
    "topography.with_obstacles(obstacles)\n",
    "\n",
    "pedestrians = [Pedestrian(11, None),Pedestrian(12, None)]\n",
    "\n",
    "simulation = Simulation(topography, pedestrians, 3, [{11:Position(1,3),12:Position(1,2)},{11:Position(2,3),12:Position(2,2)},{11:Position(2,2),12:Position(3,2)}])"
   ]
  },
  {
   "cell_type": "markdown",
   "id": "5a131118-d06f-4e18-be5d-c1869eb6d751",
   "metadata": {},
   "source": [
    "# Visualization"
   ]
  },
  {
   "cell_type": "code",
   "execution_count": 3,
   "id": "0d098cbe-dc15-44fd-be9d-fd668cf37038",
   "metadata": {},
   "outputs": [
    {
     "data": {
      "application/vnd.jupyter.widget-view+json": {
       "model_id": "65ab6c0ee4a149bbb1ea7fcd85a8dabb",
       "version_major": 2,
       "version_minor": 0
      },
      "text/plain": [
       "VBox(children=(IntSlider(value=0, max=2), interactive(children=(Play(value=0, description='Press play', max=2)…"
      ]
     },
     "metadata": {},
     "output_type": "display_data"
    }
   ],
   "source": [
    "visualizer = Visualizer(simulation,50,50)\n",
    "v = visualizer.build_gui()\n",
    "v"
   ]
  },
  {
   "cell_type": "code",
   "execution_count": 4,
   "id": "e40c9080",
   "metadata": {},
   "outputs": [
    {
     "ename": "TypeError",
     "evalue": "from_json() missing 1 required positional argument: 'path'",
     "output_type": "error",
     "traceback": [
      "\u001b[1;31m---------------------------------------------------------------------------\u001b[0m",
      "\u001b[1;31mTypeError\u001b[0m                                 Traceback (most recent call last)",
      "\u001b[1;32m<ipython-input-4-81dc4703343c>\u001b[0m in \u001b[0;36m<module>\u001b[1;34m\u001b[0m\n\u001b[1;32m----> 1\u001b[1;33m \u001b[0mtmp\u001b[0m \u001b[1;33m=\u001b[0m \u001b[0mSimulation\u001b[0m\u001b[1;33m.\u001b[0m\u001b[0mfrom_json\u001b[0m\u001b[1;33m(\u001b[0m\u001b[1;34m\"input_data.json\"\u001b[0m\u001b[1;33m)\u001b[0m\u001b[1;33m\u001b[0m\u001b[1;33m\u001b[0m\u001b[0m\n\u001b[0m\u001b[0;32m      2\u001b[0m \u001b[0mprint\u001b[0m\u001b[1;33m(\u001b[0m\u001b[0mtmp\u001b[0m\u001b[1;33m)\u001b[0m\u001b[1;33m\u001b[0m\u001b[1;33m\u001b[0m\u001b[0m\n",
      "\u001b[1;31mTypeError\u001b[0m: from_json() missing 1 required positional argument: 'path'"
     ]
    }
   ],
   "source": [
    "tmp = Simulation.from_json(\"input_data.json\")\n",
    "print(tmp)"
   ]
  },
  {
   "cell_type": "code",
   "execution_count": null,
   "id": "a140d276",
   "metadata": {},
   "outputs": [],
   "source": [
    "tmp = from_json(\"input_data.json\")\n",
    "print(tmp.from_json())"
   ]
  },
  {
   "cell_type": "code",
   "execution_count": null,
   "id": "adbf5c94-b5aa-477e-b0a4-5fc81f646480",
   "metadata": {},
   "outputs": [],
   "source": []
  }
 ],
 "metadata": {
  "kernelspec": {
   "display_name": "Python 3",
   "language": "python",
   "name": "python3"
  },
  "language_info": {
   "codemirror_mode": {
    "name": "ipython",
    "version": 3
   },
   "file_extension": ".py",
   "mimetype": "text/x-python",
   "name": "python",
   "nbconvert_exporter": "python",
   "pygments_lexer": "ipython3",
   "version": "3.8.8"
  }
 },
 "nbformat": 4,
 "nbformat_minor": 5
}
