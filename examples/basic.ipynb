{
 "cells": [
  {
   "cell_type": "markdown",
   "id": "ac9c498d",
   "metadata": {},
   "source": [
    "# Imports"
   ]
  },
  {
   "cell_type": "code",
   "execution_count": 3,
   "id": "088c9e1b",
   "metadata": {},
   "outputs": [],
   "source": [
    "from cms_visualizer.simulation import Simulation, Pedestrian, Position\n",
    "from cms_visualizer.topography import Topography, RectangularSource, RectangularTarget,RectangularObstacle\n",
    "\n",
    "from ipycanvas import Canvas, hold_canvas\n",
    "\n",
    "import ipywidgets as widgets\n",
    "from ipywidgets import interact, Play, interactive\n",
    "from IPython.display import display\n",
    "\n",
    "from cms_visualizer.visualization import Visualizer\n",
    "\n",
    "import numpy as np"
   ]
  },
  {
   "cell_type": "markdown",
   "id": "9994dfee",
   "metadata": {},
   "source": [
    "# Test data"
   ]
  },
  {
   "cell_type": "code",
   "execution_count": 4,
   "id": "ce7b603f",
   "metadata": {},
   "outputs": [],
   "source": [
    "tmp = RectangularSource(0,1,1,1,1)\n",
    "tmp.x = 1\n",
    "tmp.y = 1\n",
    "tmp.width = 2\n",
    "tmp.height = 1\n",
    "sources = [tmp]\n",
    "\n",
    "tmp = RectangularTarget(1,6,6,1,1)\n",
    "tmp.x = 6\n",
    "tmp.y = 6\n",
    "tmp.width = 3\n",
    "tmp.height = 3\n",
    "targets = [tmp]\n",
    "\n",
    "tmp = RectangularObstacle(2,3,3,1,1)\n",
    "tmp.x = 3\n",
    "tmp.y = 3\n",
    "tmp.width = 2\n",
    "tmp.height = 2\n",
    "obstacles = [tmp]\n",
    "\n",
    "topography = Topography(10,10)\n",
    "\n",
    "topography.with_sources(sources)\n",
    "topography.with_targets(targets)\n",
    "topography.with_obstacles(obstacles)\n",
    "\n",
    "pedestrians = [Pedestrian(11,1, None),Pedestrian(12,1, None)]\n",
    "\n",
    "simulation = Simulation(topography, pedestrians, 3, [{11:Position(1,3),12:Position(1,2)},{11:Position(2,3),12:Position(2,2)},{11:Position(2,2),12:Position(3,2)}])"
   ]
  },
  {
   "cell_type": "markdown",
   "id": "1dd00697",
   "metadata": {},
   "source": [
    "# Visualization"
   ]
  },
  {
   "cell_type": "code",
   "execution_count": 9,
   "id": "d2f75f6f",
   "metadata": {},
   "outputs": [
    {
     "name": "stdout",
     "output_type": "stream",
     "text": [
      "[0, 1]\n"
     ]
    }
   ],
   "source": [
    "visualizer = Visualizer(simulation,20, 20,500,500)\n",
    "v = visualizer.build_gui()"
   ]
  },
  {
   "cell_type": "code",
   "execution_count": 10,
   "id": "e8272428",
   "metadata": {},
   "outputs": [
    {
     "data": {
      "application/vnd.jupyter.widget-view+json": {
       "model_id": "3c47f5b51a6d43d19e1be6cd03b124b4",
       "version_major": 2,
       "version_minor": 0
      },
      "text/plain": [
       "VBox(children=(HBox(children=(VBox(children=(ToggleButton(value=False, description='Show Trajectories', icon='…"
      ]
     },
     "metadata": {},
     "output_type": "display_data"
    }
   ],
   "source": [
    "v"
   ]
  },
  {
   "cell_type": "markdown",
   "id": "5ad7bcad",
   "metadata": {},
   "source": [
    "# TestData with floats"
   ]
  },
  {
   "cell_type": "code",
   "execution_count": 7,
   "id": "b26f02af",
   "metadata": {},
   "outputs": [],
   "source": [
    "tmp = RectangularSource(0,1,1,1,1)\n",
    "sources = [tmp]\n",
    "\n",
    "tmp = RectangularTarget(1,6,6,2.5,1.5)\n",
    "targets = [tmp]\n",
    "\n",
    "tmp = RectangularObstacle(2,3.5,3,1.5,1)\n",
    "obstacles = [tmp]\n",
    "\n",
    "topography = Topography(10,10)\n",
    "\n",
    "topography.with_sources(sources)\n",
    "topography.with_targets(targets)\n",
    "topography.with_obstacles(obstacles)\n",
    "\n",
    "pedestrians = [Pedestrian(11,0.5, None),Pedestrian(12,0.5, None)]\n",
    "\n",
    "simulation = Simulation(topography, pedestrians, 3, [{11:Position(1,3.5),12:Position(1,2)},{11:Position(2,3.5),12:Position(2,2)},{11:Position(2,2),12:Position(3,2)}])"
   ]
  },
  {
   "cell_type": "code",
   "execution_count": 8,
   "id": "974f1864",
   "metadata": {},
   "outputs": [
    {
     "name": "stdout",
     "output_type": "stream",
     "text": [
      "[0, 1]\n"
     ]
    },
    {
     "data": {
      "application/vnd.jupyter.widget-view+json": {
       "model_id": "25867309cc4343a88fa05a2643dd62ef",
       "version_major": 2,
       "version_minor": 0
      },
      "text/plain": [
       "VBox(children=(HBox(children=(VBox(children=(ToggleButton(value=False, description='Show Trajectories', icon='…"
      ]
     },
     "metadata": {},
     "output_type": "display_data"
    }
   ],
   "source": [
    "visualizer = Visualizer(simulation,10,10,500,500)\n",
    "v = visualizer.build_gui()\n",
    "v"
   ]
  },
  {
   "cell_type": "code",
   "execution_count": null,
   "id": "fd0c1802",
   "metadata": {},
   "outputs": [],
   "source": []
  },
  {
   "cell_type": "code",
   "execution_count": null,
   "id": "ed4946c0",
   "metadata": {},
   "outputs": [],
   "source": []
  }
 ],
 "metadata": {
  "interpreter": {
   "hash": "43be3fc3ce0c32e6056f0ff1f4fdbbd1abfb8e031641945fba76b64e6e8bff29"
  },
  "kernelspec": {
   "display_name": "Python 3",
   "language": "python",
   "name": "python3"
  },
  "language_info": {
   "codemirror_mode": {
    "name": "ipython",
    "version": 3
   },
   "file_extension": ".py",
   "mimetype": "text/x-python",
   "name": "python",
   "nbconvert_exporter": "python",
   "pygments_lexer": "ipython3",
   "version": "3.9.4"
  }
 },
 "nbformat": 4,
 "nbformat_minor": 5
}
